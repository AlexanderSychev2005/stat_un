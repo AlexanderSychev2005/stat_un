{
  "nbformat": 4,
  "nbformat_minor": 0,
  "metadata": {
    "colab": {
      "provenance": [],
      "authorship_tag": "ABX9TyMDhb5qq1ybJb4LDeZGt8VC",
      "include_colab_link": true
    },
    "kernelspec": {
      "name": "python3",
      "display_name": "Python 3"
    },
    "language_info": {
      "name": "python"
    }
  },
  "cells": [
    {
      "cell_type": "markdown",
      "metadata": {
        "id": "view-in-github",
        "colab_type": "text"
      },
      "source": [
        "<a href=\"https://colab.research.google.com/github/AlexanderSychev2005/stat_un/blob/main/statistics_lab2.ipynb\" target=\"_parent\"><img src=\"https://colab.research.google.com/assets/colab-badge.svg\" alt=\"Open In Colab\"/></a>"
      ]
    },
    {
      "cell_type": "code",
      "execution_count": 173,
      "metadata": {
        "id": "Yp6pEv053yN5"
      },
      "outputs": [],
      "source": [
        "import numpy as np\n",
        "import pandas as pd\n",
        "import scipy.stats as stats\n",
        "import matplotlib.pyplot as plt"
      ]
    },
    {
      "cell_type": "code",
      "source": [
        "intervals = [(20, 21), (21, 22), (22, 23), (23, 24), (24, 25), (25, 26), (26, 27), (27, 28)]\n",
        "frequencies = [10, 8, 7, 10, 22, 18, 14, 11]"
      ],
      "metadata": {
        "id": "L6eN9E0B33qa"
      },
      "execution_count": 174,
      "outputs": []
    },
    {
      "cell_type": "code",
      "source": [
        "n = sum(frequencies) # Загальна кількість спостережень: n = 100\n",
        "alpha = 0.05 # Рівень значущості\n",
        "k = 8"
      ],
      "metadata": {
        "id": "hyKGZjHl4I51"
      },
      "execution_count": 175,
      "outputs": []
    },
    {
      "cell_type": "code",
      "source": [
        "# 1. Знайдемо середини інтервалів\n",
        "midpoints = np.mean(intervals, axis=1)\n",
        "midpoints"
      ],
      "metadata": {
        "colab": {
          "base_uri": "https://localhost:8080/"
        },
        "id": "0bahn-sv4KZs",
        "outputId": "362a131e-a205-4e92-de9a-3623cac1b2ea"
      },
      "execution_count": 176,
      "outputs": [
        {
          "output_type": "execute_result",
          "data": {
            "text/plain": [
              "array([20.5, 21.5, 22.5, 23.5, 24.5, 25.5, 26.5, 27.5])"
            ]
          },
          "metadata": {},
          "execution_count": 176
        }
      ]
    },
    {
      "cell_type": "code",
      "source": [
        "# 2. Створимо масив даних, розгорнувши частоти в повний набір значень\n",
        "data = np.repeat(midpoints, frequencies)\n",
        "data"
      ],
      "metadata": {
        "colab": {
          "base_uri": "https://localhost:8080/"
        },
        "id": "DLNzhuAJ4L7X",
        "outputId": "a36dbcf5-c437-47b4-e7ae-a99a65f735de"
      },
      "execution_count": 177,
      "outputs": [
        {
          "output_type": "execute_result",
          "data": {
            "text/plain": [
              "array([20.5, 20.5, 20.5, 20.5, 20.5, 20.5, 20.5, 20.5, 20.5, 20.5, 21.5,\n",
              "       21.5, 21.5, 21.5, 21.5, 21.5, 21.5, 21.5, 22.5, 22.5, 22.5, 22.5,\n",
              "       22.5, 22.5, 22.5, 23.5, 23.5, 23.5, 23.5, 23.5, 23.5, 23.5, 23.5,\n",
              "       23.5, 23.5, 24.5, 24.5, 24.5, 24.5, 24.5, 24.5, 24.5, 24.5, 24.5,\n",
              "       24.5, 24.5, 24.5, 24.5, 24.5, 24.5, 24.5, 24.5, 24.5, 24.5, 24.5,\n",
              "       24.5, 24.5, 25.5, 25.5, 25.5, 25.5, 25.5, 25.5, 25.5, 25.5, 25.5,\n",
              "       25.5, 25.5, 25.5, 25.5, 25.5, 25.5, 25.5, 25.5, 25.5, 26.5, 26.5,\n",
              "       26.5, 26.5, 26.5, 26.5, 26.5, 26.5, 26.5, 26.5, 26.5, 26.5, 26.5,\n",
              "       26.5, 27.5, 27.5, 27.5, 27.5, 27.5, 27.5, 27.5, 27.5, 27.5, 27.5,\n",
              "       27.5])"
            ]
          },
          "metadata": {},
          "execution_count": 177
        }
      ]
    },
    {
      "cell_type": "code",
      "source": [
        "# 3. Оцінимо параметри нормального розподілу (математичне сподівання і дисперсію)\n",
        "mu = np.mean(data)  # Вибіркове середнє (математичне сподівання)\n",
        "sigma = np.std(data, ddof=1)  # Вибіркове стандартне відхилення (з поправкою на n-1)\n",
        "print(f\"Mean: {mu}, Standard deviation: {sigma}\")"
      ],
      "metadata": {
        "colab": {
          "base_uri": "https://localhost:8080/"
        },
        "id": "4YgybpHs4QTg",
        "outputId": "949fe021-94ae-468d-a865-af6ae0f4dfa3"
      },
      "execution_count": 178,
      "outputs": [
        {
          "output_type": "stream",
          "name": "stdout",
          "text": [
            "Mean: 24.41, Standard deviation: 2.11342510077023\n"
          ]
        }
      ]
    },
    {
      "cell_type": "markdown",
      "source": [
        "## 4. Критерій Пірсона (χ²)\n",
        "## Обчислимо теоретичні ймовірності для нормального розподілу"
      ],
      "metadata": {
        "id": "FxQba4nUrIVU"
      }
    },
    {
      "cell_type": "code",
      "source": [
        "# 4. Критерій Пірсона (χ²)\n",
        "# Визначаємо інтервали для критерію Пірсона з урахуванням -∞ та +∞\n",
        "intervals_for_pearson = [\n",
        "    (float('-inf'), 21),\n",
        "    (21, 22),\n",
        "    (22, 23),\n",
        "    (23, 24),\n",
        "    (24, 25),\n",
        "    (25, 26),\n",
        "    (26, 27),\n",
        "    (27, float('inf'))\n",
        "]"
      ],
      "metadata": {
        "id": "DUcR6Yjeqt2T"
      },
      "execution_count": 202,
      "outputs": []
    },
    {
      "cell_type": "code",
      "source": [
        "# Обчислюємо теоретичні ймовірності для нормального розподілу\n",
        "probs = []\n",
        "for a, b in intervals_for_pearson:\n",
        "    prob = stats.norm.cdf(b, mu, sigma) - stats.norm.cdf(a, mu, sigma)\n",
        "    probs.append(prob)"
      ],
      "metadata": {
        "id": "EhSxmrMkqwPS"
      },
      "execution_count": 205,
      "outputs": []
    },
    {
      "cell_type": "code",
      "source": [
        "# Обчислюємо очікувані частоти: n_i' = p_i * n\n",
        "expected = np.array(probs) * n"
      ],
      "metadata": {
        "id": "UHXwUlGeqyFz"
      },
      "execution_count": 206,
      "outputs": []
    },
    {
      "cell_type": "code",
      "source": [
        "# Створюємо таблицю для критерію Пірсона\n",
        "frame = pd.DataFrame({\n",
        "    \"Intervals\": [f\"({a}, {b})\" for a, b in intervals_for_pearson],\n",
        "    \"Pi\": probs,\n",
        "    \"ni'\": expected\n",
        "})\n",
        "frame"
      ],
      "metadata": {
        "colab": {
          "base_uri": "https://localhost:8080/",
          "height": 300
        },
        "id": "YdalpZpOq0p5",
        "outputId": "c27d5887-220a-4758-f623-002a8e1ca3c6"
      },
      "execution_count": 207,
      "outputs": [
        {
          "output_type": "execute_result",
          "data": {
            "text/plain": [
              "    Intervals        Pi        ni'\n",
              "0  (-inf, 21)  0.053319   5.331855\n",
              "1    (21, 22)  0.073756   7.375608\n",
              "2    (22, 23)  0.125259  12.525924\n",
              "3    (23, 24)  0.170755  17.075490\n",
              "4    (24, 25)  0.186853  18.685316\n",
              "5    (25, 26)  0.164133  16.413273\n",
              "6    (26, 27)  0.115732  11.573167\n",
              "7   (27, inf)  0.110194  11.019366"
            ],
            "text/html": [
              "\n",
              "  <div id=\"df-08c3d54b-6009-4e58-80cc-d45efeece6c6\" class=\"colab-df-container\">\n",
              "    <div>\n",
              "<style scoped>\n",
              "    .dataframe tbody tr th:only-of-type {\n",
              "        vertical-align: middle;\n",
              "    }\n",
              "\n",
              "    .dataframe tbody tr th {\n",
              "        vertical-align: top;\n",
              "    }\n",
              "\n",
              "    .dataframe thead th {\n",
              "        text-align: right;\n",
              "    }\n",
              "</style>\n",
              "<table border=\"1\" class=\"dataframe\">\n",
              "  <thead>\n",
              "    <tr style=\"text-align: right;\">\n",
              "      <th></th>\n",
              "      <th>Intervals</th>\n",
              "      <th>Pi</th>\n",
              "      <th>ni'</th>\n",
              "    </tr>\n",
              "  </thead>\n",
              "  <tbody>\n",
              "    <tr>\n",
              "      <th>0</th>\n",
              "      <td>(-inf, 21)</td>\n",
              "      <td>0.053319</td>\n",
              "      <td>5.331855</td>\n",
              "    </tr>\n",
              "    <tr>\n",
              "      <th>1</th>\n",
              "      <td>(21, 22)</td>\n",
              "      <td>0.073756</td>\n",
              "      <td>7.375608</td>\n",
              "    </tr>\n",
              "    <tr>\n",
              "      <th>2</th>\n",
              "      <td>(22, 23)</td>\n",
              "      <td>0.125259</td>\n",
              "      <td>12.525924</td>\n",
              "    </tr>\n",
              "    <tr>\n",
              "      <th>3</th>\n",
              "      <td>(23, 24)</td>\n",
              "      <td>0.170755</td>\n",
              "      <td>17.075490</td>\n",
              "    </tr>\n",
              "    <tr>\n",
              "      <th>4</th>\n",
              "      <td>(24, 25)</td>\n",
              "      <td>0.186853</td>\n",
              "      <td>18.685316</td>\n",
              "    </tr>\n",
              "    <tr>\n",
              "      <th>5</th>\n",
              "      <td>(25, 26)</td>\n",
              "      <td>0.164133</td>\n",
              "      <td>16.413273</td>\n",
              "    </tr>\n",
              "    <tr>\n",
              "      <th>6</th>\n",
              "      <td>(26, 27)</td>\n",
              "      <td>0.115732</td>\n",
              "      <td>11.573167</td>\n",
              "    </tr>\n",
              "    <tr>\n",
              "      <th>7</th>\n",
              "      <td>(27, inf)</td>\n",
              "      <td>0.110194</td>\n",
              "      <td>11.019366</td>\n",
              "    </tr>\n",
              "  </tbody>\n",
              "</table>\n",
              "</div>\n",
              "    <div class=\"colab-df-buttons\">\n",
              "\n",
              "  <div class=\"colab-df-container\">\n",
              "    <button class=\"colab-df-convert\" onclick=\"convertToInteractive('df-08c3d54b-6009-4e58-80cc-d45efeece6c6')\"\n",
              "            title=\"Convert this dataframe to an interactive table.\"\n",
              "            style=\"display:none;\">\n",
              "\n",
              "  <svg xmlns=\"http://www.w3.org/2000/svg\" height=\"24px\" viewBox=\"0 -960 960 960\">\n",
              "    <path d=\"M120-120v-720h720v720H120Zm60-500h600v-160H180v160Zm220 220h160v-160H400v160Zm0 220h160v-160H400v160ZM180-400h160v-160H180v160Zm440 0h160v-160H620v160ZM180-180h160v-160H180v160Zm440 0h160v-160H620v160Z\"/>\n",
              "  </svg>\n",
              "    </button>\n",
              "\n",
              "  <style>\n",
              "    .colab-df-container {\n",
              "      display:flex;\n",
              "      gap: 12px;\n",
              "    }\n",
              "\n",
              "    .colab-df-convert {\n",
              "      background-color: #E8F0FE;\n",
              "      border: none;\n",
              "      border-radius: 50%;\n",
              "      cursor: pointer;\n",
              "      display: none;\n",
              "      fill: #1967D2;\n",
              "      height: 32px;\n",
              "      padding: 0 0 0 0;\n",
              "      width: 32px;\n",
              "    }\n",
              "\n",
              "    .colab-df-convert:hover {\n",
              "      background-color: #E2EBFA;\n",
              "      box-shadow: 0px 1px 2px rgba(60, 64, 67, 0.3), 0px 1px 3px 1px rgba(60, 64, 67, 0.15);\n",
              "      fill: #174EA6;\n",
              "    }\n",
              "\n",
              "    .colab-df-buttons div {\n",
              "      margin-bottom: 4px;\n",
              "    }\n",
              "\n",
              "    [theme=dark] .colab-df-convert {\n",
              "      background-color: #3B4455;\n",
              "      fill: #D2E3FC;\n",
              "    }\n",
              "\n",
              "    [theme=dark] .colab-df-convert:hover {\n",
              "      background-color: #434B5C;\n",
              "      box-shadow: 0px 1px 3px 1px rgba(0, 0, 0, 0.15);\n",
              "      filter: drop-shadow(0px 1px 2px rgba(0, 0, 0, 0.3));\n",
              "      fill: #FFFFFF;\n",
              "    }\n",
              "  </style>\n",
              "\n",
              "    <script>\n",
              "      const buttonEl =\n",
              "        document.querySelector('#df-08c3d54b-6009-4e58-80cc-d45efeece6c6 button.colab-df-convert');\n",
              "      buttonEl.style.display =\n",
              "        google.colab.kernel.accessAllowed ? 'block' : 'none';\n",
              "\n",
              "      async function convertToInteractive(key) {\n",
              "        const element = document.querySelector('#df-08c3d54b-6009-4e58-80cc-d45efeece6c6');\n",
              "        const dataTable =\n",
              "          await google.colab.kernel.invokeFunction('convertToInteractive',\n",
              "                                                    [key], {});\n",
              "        if (!dataTable) return;\n",
              "\n",
              "        const docLinkHtml = 'Like what you see? Visit the ' +\n",
              "          '<a target=\"_blank\" href=https://colab.research.google.com/notebooks/data_table.ipynb>data table notebook</a>'\n",
              "          + ' to learn more about interactive tables.';\n",
              "        element.innerHTML = '';\n",
              "        dataTable['output_type'] = 'display_data';\n",
              "        await google.colab.output.renderOutput(dataTable, element);\n",
              "        const docLink = document.createElement('div');\n",
              "        docLink.innerHTML = docLinkHtml;\n",
              "        element.appendChild(docLink);\n",
              "      }\n",
              "    </script>\n",
              "  </div>\n",
              "\n",
              "\n",
              "<div id=\"df-6659a875-26a7-451c-920f-c7cc2ed79584\">\n",
              "  <button class=\"colab-df-quickchart\" onclick=\"quickchart('df-6659a875-26a7-451c-920f-c7cc2ed79584')\"\n",
              "            title=\"Suggest charts\"\n",
              "            style=\"display:none;\">\n",
              "\n",
              "<svg xmlns=\"http://www.w3.org/2000/svg\" height=\"24px\"viewBox=\"0 0 24 24\"\n",
              "     width=\"24px\">\n",
              "    <g>\n",
              "        <path d=\"M19 3H5c-1.1 0-2 .9-2 2v14c0 1.1.9 2 2 2h14c1.1 0 2-.9 2-2V5c0-1.1-.9-2-2-2zM9 17H7v-7h2v7zm4 0h-2V7h2v10zm4 0h-2v-4h2v4z\"/>\n",
              "    </g>\n",
              "</svg>\n",
              "  </button>\n",
              "\n",
              "<style>\n",
              "  .colab-df-quickchart {\n",
              "      --bg-color: #E8F0FE;\n",
              "      --fill-color: #1967D2;\n",
              "      --hover-bg-color: #E2EBFA;\n",
              "      --hover-fill-color: #174EA6;\n",
              "      --disabled-fill-color: #AAA;\n",
              "      --disabled-bg-color: #DDD;\n",
              "  }\n",
              "\n",
              "  [theme=dark] .colab-df-quickchart {\n",
              "      --bg-color: #3B4455;\n",
              "      --fill-color: #D2E3FC;\n",
              "      --hover-bg-color: #434B5C;\n",
              "      --hover-fill-color: #FFFFFF;\n",
              "      --disabled-bg-color: #3B4455;\n",
              "      --disabled-fill-color: #666;\n",
              "  }\n",
              "\n",
              "  .colab-df-quickchart {\n",
              "    background-color: var(--bg-color);\n",
              "    border: none;\n",
              "    border-radius: 50%;\n",
              "    cursor: pointer;\n",
              "    display: none;\n",
              "    fill: var(--fill-color);\n",
              "    height: 32px;\n",
              "    padding: 0;\n",
              "    width: 32px;\n",
              "  }\n",
              "\n",
              "  .colab-df-quickchart:hover {\n",
              "    background-color: var(--hover-bg-color);\n",
              "    box-shadow: 0 1px 2px rgba(60, 64, 67, 0.3), 0 1px 3px 1px rgba(60, 64, 67, 0.15);\n",
              "    fill: var(--button-hover-fill-color);\n",
              "  }\n",
              "\n",
              "  .colab-df-quickchart-complete:disabled,\n",
              "  .colab-df-quickchart-complete:disabled:hover {\n",
              "    background-color: var(--disabled-bg-color);\n",
              "    fill: var(--disabled-fill-color);\n",
              "    box-shadow: none;\n",
              "  }\n",
              "\n",
              "  .colab-df-spinner {\n",
              "    border: 2px solid var(--fill-color);\n",
              "    border-color: transparent;\n",
              "    border-bottom-color: var(--fill-color);\n",
              "    animation:\n",
              "      spin 1s steps(1) infinite;\n",
              "  }\n",
              "\n",
              "  @keyframes spin {\n",
              "    0% {\n",
              "      border-color: transparent;\n",
              "      border-bottom-color: var(--fill-color);\n",
              "      border-left-color: var(--fill-color);\n",
              "    }\n",
              "    20% {\n",
              "      border-color: transparent;\n",
              "      border-left-color: var(--fill-color);\n",
              "      border-top-color: var(--fill-color);\n",
              "    }\n",
              "    30% {\n",
              "      border-color: transparent;\n",
              "      border-left-color: var(--fill-color);\n",
              "      border-top-color: var(--fill-color);\n",
              "      border-right-color: var(--fill-color);\n",
              "    }\n",
              "    40% {\n",
              "      border-color: transparent;\n",
              "      border-right-color: var(--fill-color);\n",
              "      border-top-color: var(--fill-color);\n",
              "    }\n",
              "    60% {\n",
              "      border-color: transparent;\n",
              "      border-right-color: var(--fill-color);\n",
              "    }\n",
              "    80% {\n",
              "      border-color: transparent;\n",
              "      border-right-color: var(--fill-color);\n",
              "      border-bottom-color: var(--fill-color);\n",
              "    }\n",
              "    90% {\n",
              "      border-color: transparent;\n",
              "      border-bottom-color: var(--fill-color);\n",
              "    }\n",
              "  }\n",
              "</style>\n",
              "\n",
              "  <script>\n",
              "    async function quickchart(key) {\n",
              "      const quickchartButtonEl =\n",
              "        document.querySelector('#' + key + ' button');\n",
              "      quickchartButtonEl.disabled = true;  // To prevent multiple clicks.\n",
              "      quickchartButtonEl.classList.add('colab-df-spinner');\n",
              "      try {\n",
              "        const charts = await google.colab.kernel.invokeFunction(\n",
              "            'suggestCharts', [key], {});\n",
              "      } catch (error) {\n",
              "        console.error('Error during call to suggestCharts:', error);\n",
              "      }\n",
              "      quickchartButtonEl.classList.remove('colab-df-spinner');\n",
              "      quickchartButtonEl.classList.add('colab-df-quickchart-complete');\n",
              "    }\n",
              "    (() => {\n",
              "      let quickchartButtonEl =\n",
              "        document.querySelector('#df-6659a875-26a7-451c-920f-c7cc2ed79584 button');\n",
              "      quickchartButtonEl.style.display =\n",
              "        google.colab.kernel.accessAllowed ? 'block' : 'none';\n",
              "    })();\n",
              "  </script>\n",
              "</div>\n",
              "    </div>\n",
              "  </div>\n"
            ],
            "application/vnd.google.colaboratory.intrinsic+json": {
              "type": "dataframe",
              "variable_name": "frame",
              "summary": "{\n  \"name\": \"frame\",\n  \"rows\": 8,\n  \"fields\": [\n    {\n      \"column\": \"Intervals\",\n      \"properties\": {\n        \"dtype\": \"string\",\n        \"num_unique_values\": 8,\n        \"samples\": [\n          \"(21, 22)\",\n          \"(25, 26)\",\n          \"(-inf, 21)\"\n        ],\n        \"semantic_type\": \"\",\n        \"description\": \"\"\n      }\n    },\n    {\n      \"column\": \"Pi\",\n      \"properties\": {\n        \"dtype\": \"number\",\n        \"std\": 0.04708664186457923,\n        \"min\": 0.0533185471132157,\n        \"max\": 0.18685316150004316,\n        \"num_unique_values\": 8,\n        \"samples\": [\n          0.07375607631249603,\n          0.16413273465820266,\n          0.0533185471132157\n        ],\n        \"semantic_type\": \"\",\n        \"description\": \"\"\n      }\n    },\n    {\n      \"column\": \"ni'\",\n      \"properties\": {\n        \"dtype\": \"number\",\n        \"std\": 4.7086641864579235,\n        \"min\": 5.33185471132157,\n        \"max\": 18.685316150004315,\n        \"num_unique_values\": 8,\n        \"samples\": [\n          7.375607631249603,\n          16.413273465820268,\n          5.33185471132157\n        ],\n        \"semantic_type\": \"\",\n        \"description\": \"\"\n      }\n    }\n  ]\n}"
            }
          },
          "metadata": {},
          "execution_count": 207
        }
      ]
    },
    {
      "cell_type": "code",
      "source": [
        "# Перевіряємо, що сума ймовірностей дорівнює 1\n",
        "np.sum(frame[\"Pi\"])"
      ],
      "metadata": {
        "colab": {
          "base_uri": "https://localhost:8080/"
        },
        "id": "Weh83k-8rBTE",
        "outputId": "b6c61e85-3546-472f-f88a-dff63d1b61b2"
      },
      "execution_count": 208,
      "outputs": [
        {
          "output_type": "execute_result",
          "data": {
            "text/plain": [
              "np.float64(1.0)"
            ]
          },
          "metadata": {},
          "execution_count": 208
        }
      ]
    },
    {
      "cell_type": "code",
      "source": [
        "np.sum(frame[\"ni'\"])"
      ],
      "metadata": {
        "colab": {
          "base_uri": "https://localhost:8080/"
        },
        "id": "yOxbZZkjroMA",
        "outputId": "3498099d-55c4-4128-fa86-d322cf63c554"
      },
      "execution_count": 209,
      "outputs": [
        {
          "output_type": "execute_result",
          "data": {
            "text/plain": [
              "np.float64(100.0)"
            ]
          },
          "metadata": {},
          "execution_count": 209
        }
      ]
    },
    {
      "cell_type": "code",
      "source": [
        "# Обчислимо статистику χ²\n",
        "chi2_stat = np.sum((frequencies - expected) ** 2 / expected)\n",
        "chi2_stat"
      ],
      "metadata": {
        "colab": {
          "base_uri": "https://localhost:8080/"
        },
        "id": "vePZ8Z7J5r7A",
        "outputId": "e48b90ab-7969-4069-f2a7-3962d678404d"
      },
      "execution_count": 185,
      "outputs": [
        {
          "output_type": "execute_result",
          "data": {
            "text/plain": [
              "np.float64(10.759893198625697)"
            ]
          },
          "metadata": {},
          "execution_count": 185
        }
      ]
    },
    {
      "cell_type": "code",
      "source": [
        "r = len(intervals)  # Кількість інтервалів\n",
        "l = 2  # Кількість параметрів, оцінених з вибірки (середнє та дисперсія)\n",
        "k = r - l - 1  # Число ступенів свободи\n",
        "\n"
      ],
      "metadata": {
        "id": "Uf8yEBDR5urL"
      },
      "execution_count": 186,
      "outputs": []
    },
    {
      "cell_type": "code",
      "source": [
        "import scipy"
      ],
      "metadata": {
        "id": "vswbHkjV-0fd"
      },
      "execution_count": 187,
      "outputs": []
    },
    {
      "cell_type": "code",
      "source": [
        "# Знаходимо критичне значення χ²\n",
        "chi_square_critical = scipy.stats.chi2.ppf(1-alpha, k)\n",
        "\n",
        "print(\"\\nКритерій Пірсона:\")\n",
        "print(f\"χ²_спост²: {chi2_stat:.4f}\")\n",
        "print(f\"Ступені свободи: {k}\")\n",
        "print(f\"χ²_кр²: {chi_square_critical:.4f}\")"
      ],
      "metadata": {
        "colab": {
          "base_uri": "https://localhost:8080/"
        },
        "id": "ZyevqbGM-bFk",
        "outputId": "076684c2-687b-4fa7-f732-6976b45113e8"
      },
      "execution_count": 210,
      "outputs": [
        {
          "output_type": "stream",
          "name": "stdout",
          "text": [
            "\n",
            "Критерій Пірсона:\n",
            "χ²_спост²: 10.7599\n",
            "Ступені свободи: 5\n",
            "χ²_кр²: 11.0705\n"
          ]
        }
      ]
    },
    {
      "cell_type": "code",
      "source": [
        "if chi2_stat > chi_square_critical:\n",
        "    print(f\"Оскільки χ²_спост > χ²_кр ({chi2_stat:.4f} > {chi_square_critical:.4f}), на рівні значущості α = {alpha} є підстави відхиляти гіпотезу H_0 про те, що випадкова величина X має нормальний закон розподілу.\")\n",
        "else:\n",
        "    print(f\"Оскільки χ²_спост < χ²_кр ({chi2_stat:.4f} < {chi_square_critical:.4f}), на рівні значущості α = {alpha} немає підстав відхиляти гіпотезу H_0 про те, що випадкова величина X має нормальний закон розподілу.\")"
      ],
      "metadata": {
        "colab": {
          "base_uri": "https://localhost:8080/"
        },
        "id": "VCgoWfD6_V-x",
        "outputId": "61f9c69e-12d3-4dfd-b2f1-f216040914b3"
      },
      "execution_count": 189,
      "outputs": [
        {
          "output_type": "stream",
          "name": "stdout",
          "text": [
            "Оскільки χ²_спост < χ²_кр (10.7599 < 11.0705), на рівні значущості α = 0.05 немає підстав відхиляти гіпотезу H_0 про те, що випадкова величина X має нормальний закон розподілу.\n"
          ]
        }
      ]
    },
    {
      "cell_type": "markdown",
      "source": [
        "## КРИТЕРІЙ КОЛМОГОРОВА"
      ],
      "metadata": {
        "id": "8iVajpuxBvkt"
      }
    },
    {
      "cell_type": "code",
      "source": [
        "# 5. Критерій Колмогорова\n",
        "# Формуємо таблицю для критерію Колмогорова\n",
        "x_i_list = [-float('inf')] + [interval[0] for interval in intervals] + [intervals[-1][1]]\n",
        "x_i_plus_1_list = [intervals[0][0]] + [pair[1] for pair in intervals] + [float('inf')]\n",
        "frequencies_extended = [0] + frequencies + [0]  # Додаємо 0 на початку і в кінці\n",
        "m_x_extended = pd.Series(frequencies_extended).cumsum() # Кумулятивні частоти"
      ],
      "metadata": {
        "id": "xoF0gxngBvXA"
      },
      "execution_count": 211,
      "outputs": []
    },
    {
      "cell_type": "code",
      "source": [
        "x_i_list"
      ],
      "metadata": {
        "colab": {
          "base_uri": "https://localhost:8080/"
        },
        "id": "vI7xmbXZE42o",
        "outputId": "3e738b0e-f31e-4e8b-cff5-3400db4d0154"
      },
      "execution_count": 212,
      "outputs": [
        {
          "output_type": "execute_result",
          "data": {
            "text/plain": [
              "[-inf, 20, 21, 22, 23, 24, 25, 26, 27, 28]"
            ]
          },
          "metadata": {},
          "execution_count": 212
        }
      ]
    },
    {
      "cell_type": "code",
      "source": [
        "x_i_plus_1_list"
      ],
      "metadata": {
        "colab": {
          "base_uri": "https://localhost:8080/"
        },
        "id": "59k2HEhOE6bR",
        "outputId": "38919ab1-9877-4148-80b7-c609037dbc5c"
      },
      "execution_count": 213,
      "outputs": [
        {
          "output_type": "execute_result",
          "data": {
            "text/plain": [
              "[20, 21, 22, 23, 24, 25, 26, 27, 28, inf]"
            ]
          },
          "metadata": {},
          "execution_count": 213
        }
      ]
    },
    {
      "cell_type": "code",
      "source": [
        "frequencies_extended"
      ],
      "metadata": {
        "colab": {
          "base_uri": "https://localhost:8080/"
        },
        "id": "KE1e4G0RE9NJ",
        "outputId": "e0af1e02-a434-4f51-b348-8814c3b1d723"
      },
      "execution_count": 214,
      "outputs": [
        {
          "output_type": "execute_result",
          "data": {
            "text/plain": [
              "[0, 10, 8, 7, 10, 22, 18, 14, 11, 0]"
            ]
          },
          "metadata": {},
          "execution_count": 214
        }
      ]
    },
    {
      "cell_type": "code",
      "source": [
        "import math"
      ],
      "metadata": {
        "id": "UbNLJw6RGbJj"
      },
      "execution_count": 194,
      "outputs": []
    },
    {
      "cell_type": "code",
      "source": [
        "# Кумулятивна частота (F*(x_i))\n",
        "kolmogorov_table_data = {\n",
        "    'i': list(range(1, len(x_i_list) + 1)),\n",
        "    'x_i': x_i_list,\n",
        "    'x_{i+1}': x_i_plus_1_list,\n",
        "    'm_i': frequencies_extended,\n",
        "    'm_x': m_x_extended,\n",
        "    'F*(x_i)': m_x_extended / n, # Емпірична функція розподілу\n",
        "}\n",
        "kolmogorov_df = pd.DataFrame(kolmogorov_table_data)\n",
        "kolmogorov_df.loc[kolmogorov_df.index[-1], 'F*(x_i)'] = 1\n",
        "\n",
        "# Обчислюємо теоретичну функцію розподілу F(x_i) для нормального закону\n",
        "kolmogorov_df['(x_{i+1}-mu)/sigma'] = (kolmogorov_df['x_{i+1}'] - mu) / sigma\n",
        "kolmogorov_df['F(x_i)'] = [scipy.stats.norm.cdf(z) if z != float('inf') else 1 for z in kolmogorov_df['(x_{i+1}-mu)/sigma']]\n",
        "kolmogorov_df.loc[0, 'F(x_i)'] = 0  # для -inf\n",
        "\n",
        "# Обчислюємо абсолютну різницю між емпіричною та теоретичною функціями\n",
        "kolmogorov_df['|F*(x_i) - F(x_i)|'] = abs(kolmogorov_df['F*(x_i)'] - kolmogorov_df['F(x_i)'])\n",
        "\n",
        "# Форматування для зручного перегляду\n",
        "kolmogorov_df['F*(x_i)'] = kolmogorov_df['F*(x_i)'].apply(lambda x: f\"{x:.3f}\")\n",
        "kolmogorov_df['(x_{i+1}-mu)/sigma'] = kolmogorov_df['(x_{i+1}-mu)/sigma'].apply(lambda x: f\"{x:.4f}\" if x != float('inf') else 'inf')\n",
        "kolmogorov_df['F(x_i)'] = kolmogorov_df['F(x_i)'].apply(lambda x: f\"{x:.4f}\")\n",
        "kolmogorov_df['|F*(x_i) - F(x_i)|'] = kolmogorov_df['|F*(x_i) - F(x_i)|'].apply(lambda x: f\"{x:.5f}\")"
      ],
      "metadata": {
        "id": "gNepW3UKCtJB"
      },
      "execution_count": 215,
      "outputs": []
    },
    {
      "cell_type": "code",
      "source": [
        "kolmogorov_df"
      ],
      "metadata": {
        "colab": {
          "base_uri": "https://localhost:8080/",
          "height": 363
        },
        "id": "uTQ2EyFRC__D",
        "outputId": "5235e716-ebae-4827-f522-b69a1b75b5ec"
      },
      "execution_count": 216,
      "outputs": [
        {
          "output_type": "execute_result",
          "data": {
            "text/plain": [
              "    i   x_i  x_{i+1}  m_i  m_x F*(x_i) (x_{i+1}-mu)/sigma  F(x_i)  \\\n",
              "0   1  -inf     20.0    0    0   0.000            -2.0867  0.0000   \n",
              "1   2  20.0     21.0   10   10   0.100            -1.6135  0.0533   \n",
              "2   3  21.0     22.0    8   18   0.180            -1.1403  0.1271   \n",
              "3   4  22.0     23.0    7   25   0.250            -0.6672  0.2523   \n",
              "4   5  23.0     24.0   10   35   0.350            -0.1940  0.4231   \n",
              "5   6  24.0     25.0   22   57   0.570             0.2792  0.6099   \n",
              "6   7  25.0     26.0   18   75   0.750             0.7523  0.7741   \n",
              "7   8  26.0     27.0   14   89   0.890             1.2255  0.8898   \n",
              "8   9  27.0     28.0   11  100   1.000             1.6987  0.9553   \n",
              "9  10  28.0      inf    0  100   1.000                inf  1.0000   \n",
              "\n",
              "  |F*(x_i) - F(x_i)|  \n",
              "0            0.00000  \n",
              "1            0.04668  \n",
              "2            0.05293  \n",
              "3            0.00233  \n",
              "4            0.07309  \n",
              "5            0.03994  \n",
              "6            0.02407  \n",
              "7            0.00019  \n",
              "8            0.04469  \n",
              "9            0.00000  "
            ],
            "text/html": [
              "\n",
              "  <div id=\"df-444925ff-c711-46b2-97fd-ee1b589ba22c\" class=\"colab-df-container\">\n",
              "    <div>\n",
              "<style scoped>\n",
              "    .dataframe tbody tr th:only-of-type {\n",
              "        vertical-align: middle;\n",
              "    }\n",
              "\n",
              "    .dataframe tbody tr th {\n",
              "        vertical-align: top;\n",
              "    }\n",
              "\n",
              "    .dataframe thead th {\n",
              "        text-align: right;\n",
              "    }\n",
              "</style>\n",
              "<table border=\"1\" class=\"dataframe\">\n",
              "  <thead>\n",
              "    <tr style=\"text-align: right;\">\n",
              "      <th></th>\n",
              "      <th>i</th>\n",
              "      <th>x_i</th>\n",
              "      <th>x_{i+1}</th>\n",
              "      <th>m_i</th>\n",
              "      <th>m_x</th>\n",
              "      <th>F*(x_i)</th>\n",
              "      <th>(x_{i+1}-mu)/sigma</th>\n",
              "      <th>F(x_i)</th>\n",
              "      <th>|F*(x_i) - F(x_i)|</th>\n",
              "    </tr>\n",
              "  </thead>\n",
              "  <tbody>\n",
              "    <tr>\n",
              "      <th>0</th>\n",
              "      <td>1</td>\n",
              "      <td>-inf</td>\n",
              "      <td>20.0</td>\n",
              "      <td>0</td>\n",
              "      <td>0</td>\n",
              "      <td>0.000</td>\n",
              "      <td>-2.0867</td>\n",
              "      <td>0.0000</td>\n",
              "      <td>0.00000</td>\n",
              "    </tr>\n",
              "    <tr>\n",
              "      <th>1</th>\n",
              "      <td>2</td>\n",
              "      <td>20.0</td>\n",
              "      <td>21.0</td>\n",
              "      <td>10</td>\n",
              "      <td>10</td>\n",
              "      <td>0.100</td>\n",
              "      <td>-1.6135</td>\n",
              "      <td>0.0533</td>\n",
              "      <td>0.04668</td>\n",
              "    </tr>\n",
              "    <tr>\n",
              "      <th>2</th>\n",
              "      <td>3</td>\n",
              "      <td>21.0</td>\n",
              "      <td>22.0</td>\n",
              "      <td>8</td>\n",
              "      <td>18</td>\n",
              "      <td>0.180</td>\n",
              "      <td>-1.1403</td>\n",
              "      <td>0.1271</td>\n",
              "      <td>0.05293</td>\n",
              "    </tr>\n",
              "    <tr>\n",
              "      <th>3</th>\n",
              "      <td>4</td>\n",
              "      <td>22.0</td>\n",
              "      <td>23.0</td>\n",
              "      <td>7</td>\n",
              "      <td>25</td>\n",
              "      <td>0.250</td>\n",
              "      <td>-0.6672</td>\n",
              "      <td>0.2523</td>\n",
              "      <td>0.00233</td>\n",
              "    </tr>\n",
              "    <tr>\n",
              "      <th>4</th>\n",
              "      <td>5</td>\n",
              "      <td>23.0</td>\n",
              "      <td>24.0</td>\n",
              "      <td>10</td>\n",
              "      <td>35</td>\n",
              "      <td>0.350</td>\n",
              "      <td>-0.1940</td>\n",
              "      <td>0.4231</td>\n",
              "      <td>0.07309</td>\n",
              "    </tr>\n",
              "    <tr>\n",
              "      <th>5</th>\n",
              "      <td>6</td>\n",
              "      <td>24.0</td>\n",
              "      <td>25.0</td>\n",
              "      <td>22</td>\n",
              "      <td>57</td>\n",
              "      <td>0.570</td>\n",
              "      <td>0.2792</td>\n",
              "      <td>0.6099</td>\n",
              "      <td>0.03994</td>\n",
              "    </tr>\n",
              "    <tr>\n",
              "      <th>6</th>\n",
              "      <td>7</td>\n",
              "      <td>25.0</td>\n",
              "      <td>26.0</td>\n",
              "      <td>18</td>\n",
              "      <td>75</td>\n",
              "      <td>0.750</td>\n",
              "      <td>0.7523</td>\n",
              "      <td>0.7741</td>\n",
              "      <td>0.02407</td>\n",
              "    </tr>\n",
              "    <tr>\n",
              "      <th>7</th>\n",
              "      <td>8</td>\n",
              "      <td>26.0</td>\n",
              "      <td>27.0</td>\n",
              "      <td>14</td>\n",
              "      <td>89</td>\n",
              "      <td>0.890</td>\n",
              "      <td>1.2255</td>\n",
              "      <td>0.8898</td>\n",
              "      <td>0.00019</td>\n",
              "    </tr>\n",
              "    <tr>\n",
              "      <th>8</th>\n",
              "      <td>9</td>\n",
              "      <td>27.0</td>\n",
              "      <td>28.0</td>\n",
              "      <td>11</td>\n",
              "      <td>100</td>\n",
              "      <td>1.000</td>\n",
              "      <td>1.6987</td>\n",
              "      <td>0.9553</td>\n",
              "      <td>0.04469</td>\n",
              "    </tr>\n",
              "    <tr>\n",
              "      <th>9</th>\n",
              "      <td>10</td>\n",
              "      <td>28.0</td>\n",
              "      <td>inf</td>\n",
              "      <td>0</td>\n",
              "      <td>100</td>\n",
              "      <td>1.000</td>\n",
              "      <td>inf</td>\n",
              "      <td>1.0000</td>\n",
              "      <td>0.00000</td>\n",
              "    </tr>\n",
              "  </tbody>\n",
              "</table>\n",
              "</div>\n",
              "    <div class=\"colab-df-buttons\">\n",
              "\n",
              "  <div class=\"colab-df-container\">\n",
              "    <button class=\"colab-df-convert\" onclick=\"convertToInteractive('df-444925ff-c711-46b2-97fd-ee1b589ba22c')\"\n",
              "            title=\"Convert this dataframe to an interactive table.\"\n",
              "            style=\"display:none;\">\n",
              "\n",
              "  <svg xmlns=\"http://www.w3.org/2000/svg\" height=\"24px\" viewBox=\"0 -960 960 960\">\n",
              "    <path d=\"M120-120v-720h720v720H120Zm60-500h600v-160H180v160Zm220 220h160v-160H400v160Zm0 220h160v-160H400v160ZM180-400h160v-160H180v160Zm440 0h160v-160H620v160ZM180-180h160v-160H180v160Zm440 0h160v-160H620v160Z\"/>\n",
              "  </svg>\n",
              "    </button>\n",
              "\n",
              "  <style>\n",
              "    .colab-df-container {\n",
              "      display:flex;\n",
              "      gap: 12px;\n",
              "    }\n",
              "\n",
              "    .colab-df-convert {\n",
              "      background-color: #E8F0FE;\n",
              "      border: none;\n",
              "      border-radius: 50%;\n",
              "      cursor: pointer;\n",
              "      display: none;\n",
              "      fill: #1967D2;\n",
              "      height: 32px;\n",
              "      padding: 0 0 0 0;\n",
              "      width: 32px;\n",
              "    }\n",
              "\n",
              "    .colab-df-convert:hover {\n",
              "      background-color: #E2EBFA;\n",
              "      box-shadow: 0px 1px 2px rgba(60, 64, 67, 0.3), 0px 1px 3px 1px rgba(60, 64, 67, 0.15);\n",
              "      fill: #174EA6;\n",
              "    }\n",
              "\n",
              "    .colab-df-buttons div {\n",
              "      margin-bottom: 4px;\n",
              "    }\n",
              "\n",
              "    [theme=dark] .colab-df-convert {\n",
              "      background-color: #3B4455;\n",
              "      fill: #D2E3FC;\n",
              "    }\n",
              "\n",
              "    [theme=dark] .colab-df-convert:hover {\n",
              "      background-color: #434B5C;\n",
              "      box-shadow: 0px 1px 3px 1px rgba(0, 0, 0, 0.15);\n",
              "      filter: drop-shadow(0px 1px 2px rgba(0, 0, 0, 0.3));\n",
              "      fill: #FFFFFF;\n",
              "    }\n",
              "  </style>\n",
              "\n",
              "    <script>\n",
              "      const buttonEl =\n",
              "        document.querySelector('#df-444925ff-c711-46b2-97fd-ee1b589ba22c button.colab-df-convert');\n",
              "      buttonEl.style.display =\n",
              "        google.colab.kernel.accessAllowed ? 'block' : 'none';\n",
              "\n",
              "      async function convertToInteractive(key) {\n",
              "        const element = document.querySelector('#df-444925ff-c711-46b2-97fd-ee1b589ba22c');\n",
              "        const dataTable =\n",
              "          await google.colab.kernel.invokeFunction('convertToInteractive',\n",
              "                                                    [key], {});\n",
              "        if (!dataTable) return;\n",
              "\n",
              "        const docLinkHtml = 'Like what you see? Visit the ' +\n",
              "          '<a target=\"_blank\" href=https://colab.research.google.com/notebooks/data_table.ipynb>data table notebook</a>'\n",
              "          + ' to learn more about interactive tables.';\n",
              "        element.innerHTML = '';\n",
              "        dataTable['output_type'] = 'display_data';\n",
              "        await google.colab.output.renderOutput(dataTable, element);\n",
              "        const docLink = document.createElement('div');\n",
              "        docLink.innerHTML = docLinkHtml;\n",
              "        element.appendChild(docLink);\n",
              "      }\n",
              "    </script>\n",
              "  </div>\n",
              "\n",
              "\n",
              "<div id=\"df-06bd214d-7be3-4ea2-977f-ffe1233c2ff9\">\n",
              "  <button class=\"colab-df-quickchart\" onclick=\"quickchart('df-06bd214d-7be3-4ea2-977f-ffe1233c2ff9')\"\n",
              "            title=\"Suggest charts\"\n",
              "            style=\"display:none;\">\n",
              "\n",
              "<svg xmlns=\"http://www.w3.org/2000/svg\" height=\"24px\"viewBox=\"0 0 24 24\"\n",
              "     width=\"24px\">\n",
              "    <g>\n",
              "        <path d=\"M19 3H5c-1.1 0-2 .9-2 2v14c0 1.1.9 2 2 2h14c1.1 0 2-.9 2-2V5c0-1.1-.9-2-2-2zM9 17H7v-7h2v7zm4 0h-2V7h2v10zm4 0h-2v-4h2v4z\"/>\n",
              "    </g>\n",
              "</svg>\n",
              "  </button>\n",
              "\n",
              "<style>\n",
              "  .colab-df-quickchart {\n",
              "      --bg-color: #E8F0FE;\n",
              "      --fill-color: #1967D2;\n",
              "      --hover-bg-color: #E2EBFA;\n",
              "      --hover-fill-color: #174EA6;\n",
              "      --disabled-fill-color: #AAA;\n",
              "      --disabled-bg-color: #DDD;\n",
              "  }\n",
              "\n",
              "  [theme=dark] .colab-df-quickchart {\n",
              "      --bg-color: #3B4455;\n",
              "      --fill-color: #D2E3FC;\n",
              "      --hover-bg-color: #434B5C;\n",
              "      --hover-fill-color: #FFFFFF;\n",
              "      --disabled-bg-color: #3B4455;\n",
              "      --disabled-fill-color: #666;\n",
              "  }\n",
              "\n",
              "  .colab-df-quickchart {\n",
              "    background-color: var(--bg-color);\n",
              "    border: none;\n",
              "    border-radius: 50%;\n",
              "    cursor: pointer;\n",
              "    display: none;\n",
              "    fill: var(--fill-color);\n",
              "    height: 32px;\n",
              "    padding: 0;\n",
              "    width: 32px;\n",
              "  }\n",
              "\n",
              "  .colab-df-quickchart:hover {\n",
              "    background-color: var(--hover-bg-color);\n",
              "    box-shadow: 0 1px 2px rgba(60, 64, 67, 0.3), 0 1px 3px 1px rgba(60, 64, 67, 0.15);\n",
              "    fill: var(--button-hover-fill-color);\n",
              "  }\n",
              "\n",
              "  .colab-df-quickchart-complete:disabled,\n",
              "  .colab-df-quickchart-complete:disabled:hover {\n",
              "    background-color: var(--disabled-bg-color);\n",
              "    fill: var(--disabled-fill-color);\n",
              "    box-shadow: none;\n",
              "  }\n",
              "\n",
              "  .colab-df-spinner {\n",
              "    border: 2px solid var(--fill-color);\n",
              "    border-color: transparent;\n",
              "    border-bottom-color: var(--fill-color);\n",
              "    animation:\n",
              "      spin 1s steps(1) infinite;\n",
              "  }\n",
              "\n",
              "  @keyframes spin {\n",
              "    0% {\n",
              "      border-color: transparent;\n",
              "      border-bottom-color: var(--fill-color);\n",
              "      border-left-color: var(--fill-color);\n",
              "    }\n",
              "    20% {\n",
              "      border-color: transparent;\n",
              "      border-left-color: var(--fill-color);\n",
              "      border-top-color: var(--fill-color);\n",
              "    }\n",
              "    30% {\n",
              "      border-color: transparent;\n",
              "      border-left-color: var(--fill-color);\n",
              "      border-top-color: var(--fill-color);\n",
              "      border-right-color: var(--fill-color);\n",
              "    }\n",
              "    40% {\n",
              "      border-color: transparent;\n",
              "      border-right-color: var(--fill-color);\n",
              "      border-top-color: var(--fill-color);\n",
              "    }\n",
              "    60% {\n",
              "      border-color: transparent;\n",
              "      border-right-color: var(--fill-color);\n",
              "    }\n",
              "    80% {\n",
              "      border-color: transparent;\n",
              "      border-right-color: var(--fill-color);\n",
              "      border-bottom-color: var(--fill-color);\n",
              "    }\n",
              "    90% {\n",
              "      border-color: transparent;\n",
              "      border-bottom-color: var(--fill-color);\n",
              "    }\n",
              "  }\n",
              "</style>\n",
              "\n",
              "  <script>\n",
              "    async function quickchart(key) {\n",
              "      const quickchartButtonEl =\n",
              "        document.querySelector('#' + key + ' button');\n",
              "      quickchartButtonEl.disabled = true;  // To prevent multiple clicks.\n",
              "      quickchartButtonEl.classList.add('colab-df-spinner');\n",
              "      try {\n",
              "        const charts = await google.colab.kernel.invokeFunction(\n",
              "            'suggestCharts', [key], {});\n",
              "      } catch (error) {\n",
              "        console.error('Error during call to suggestCharts:', error);\n",
              "      }\n",
              "      quickchartButtonEl.classList.remove('colab-df-spinner');\n",
              "      quickchartButtonEl.classList.add('colab-df-quickchart-complete');\n",
              "    }\n",
              "    (() => {\n",
              "      let quickchartButtonEl =\n",
              "        document.querySelector('#df-06bd214d-7be3-4ea2-977f-ffe1233c2ff9 button');\n",
              "      quickchartButtonEl.style.display =\n",
              "        google.colab.kernel.accessAllowed ? 'block' : 'none';\n",
              "    })();\n",
              "  </script>\n",
              "</div>\n",
              "    </div>\n",
              "  </div>\n"
            ],
            "application/vnd.google.colaboratory.intrinsic+json": {
              "type": "dataframe",
              "variable_name": "kolmogorov_df",
              "repr_error": "Out of range float values are not JSON compliant: -inf"
            }
          },
          "metadata": {},
          "execution_count": 216
        }
      ]
    },
    {
      "cell_type": "code",
      "source": [
        "# Обчислюємо D*, λ_спост і λ_крит\n",
        "D_star = kolmogorov_df['|F*(x_i) - F(x_i)|'].astype(float).max()\n",
        "λ = D_star * math.sqrt(n)\n",
        "alpha = 0.05\n",
        "λ_kr = scipy.stats.kstwobign.ppf(1 - alpha)\n",
        "\n",
        "print(f\"\\nD* = {D_star:.5f}\")\n",
        "print(f\"λ_спост = {λ:.4f}\")\n",
        "print(f\"λ_крит (α = {alpha}) = {λ_kr:.3f}\")"
      ],
      "metadata": {
        "colab": {
          "base_uri": "https://localhost:8080/"
        },
        "id": "eKpYnfzqDALw",
        "outputId": "0f18e763-1a5b-4302-e771-f18f941bd9b8"
      },
      "execution_count": 217,
      "outputs": [
        {
          "output_type": "stream",
          "name": "stdout",
          "text": [
            "\n",
            "D* = 0.07309\n",
            "λ_спост = 0.7309\n",
            "λ_крит (α = 0.05) = 1.358\n"
          ]
        }
      ]
    },
    {
      "cell_type": "code",
      "source": [
        "print(f\"Для заданого рівня значущості alpha = {alpha} знаходимо λ_крит = λ_{alpha} = {λ_kr:.3f}\")\n",
        "if λ > λ_kr:\n",
        "    print(f\"А) Оскільки λ_спост > λ_кр ({λ:.4f} > {λ_kr:.3f}), на рівні значущості α = {alpha} є підстави відхиляти гіпотезу H_0 про те, що випадкова величина X має нормальний закон розподілу.\\n\")\n",
        "else:\n",
        "    print(f\"А) Оскільки λ_спост < λ_кр ({λ:.4f} < {λ_kr:.3f}), на рівні значущості α = {alpha} немає підстав відхиляти гіпотезу H_0 про те, що випадкова величина X має нормальний закон розподілу.\\n\")"
      ],
      "metadata": {
        "colab": {
          "base_uri": "https://localhost:8080/"
        },
        "id": "-M72vQfGG-2b",
        "outputId": "92878265-3286-452a-b2bd-f54cf7b3ca62"
      },
      "execution_count": 198,
      "outputs": [
        {
          "output_type": "stream",
          "name": "stdout",
          "text": [
            "Для заданого рівня значущості alpha = 0.05 знаходимо λ_крит = λ_0.05 = 1.358\n",
            "А) Оскільки λ_спост < λ_кр (0.7309 < 1.358), на рівні значущості α = 0.05 немає підстав відхиляти гіпотезу H_0 про те, що випадкова величина X має нормальний закон розподілу.\n",
            "\n"
          ]
        }
      ]
    },
    {
      "cell_type": "code",
      "source": [
        "# Обчислення критичного значення K(n;alpha) для статистики критерію Колмогорова\n",
        "k_n_alpha = λ_kr / math.sqrt(n)\n",
        "print(f\"K_{n}_{alpha} = {k_n_alpha:.3f}\")\n",
        "\n",
        "if D_star > k_n_alpha:\n",
        "    print(f\"В) Оскільки D* > K_{n}_{alpha} ({D_star:.4f} > {k_n_alpha:.3f}), на рівні значущості α = {alpha} є підстави відхиляти гіпотезу H_0 про те, що випадкова величина X має нормальний закон розподілу.\\n\")\n",
        "else:\n",
        "    print(f\"В) Оскільки D* < K_{n}_{alpha} ({D_star:.4f} < {k_n_alpha:.3f}), на рівні значущості α = {alpha} немає підстав відхиляти гіпотезу H_0 про те, що випадкова величина X має нормальний закон розподілу.\\n\")"
      ],
      "metadata": {
        "colab": {
          "base_uri": "https://localhost:8080/"
        },
        "id": "aiyZBB9MKY6s",
        "outputId": "cc330bff-6b80-458f-eae3-3254ba4f5c59"
      },
      "execution_count": 199,
      "outputs": [
        {
          "output_type": "stream",
          "name": "stdout",
          "text": [
            "K_100_0.05 = 0.136\n",
            "В) Оскільки D* < K_100_0.05 (0.0731 < 0.136), на рівні значущості α = 0.05 немає підстав відхиляти гіпотезу H_0 про те, що випадкова величина X має нормальний закон розподілу.\n",
            "\n"
          ]
        }
      ]
    },
    {
      "cell_type": "code",
      "source": [
        "import seaborn as sns"
      ],
      "metadata": {
        "id": "tfj0CwjdKz_t"
      },
      "execution_count": 200,
      "outputs": []
    },
    {
      "cell_type": "code",
      "source": [
        "# 6 Візуалізація: Гістограма з нормальною кривою\n",
        "bins = np.array([interval[0] for interval in intervals] + [intervals[-1][1]])\n",
        "relative_frequencies = [frequency / n for frequency in frequencies]\n",
        "h = bins[1] - bins[0]\n",
        "density_w = [w / h for w in relative_frequencies]\n",
        "midpoints = np.mean(intervals, axis=1)\n",
        "\n",
        "plt.figure(figsize=(8, 5))\n",
        "sns.histplot(data=data, bins=bins, stat=\"density\", color=\"lightblue\", edgecolor=\"blue\", linewidth=1.5,\n",
        "             alpha=1, label=\"Гістограма щільності відносних частот\")\n",
        "plt.plot(midpoints, density_w, 'y-', label='Частоти (m_i)', zorder=3, linewidth=2, markersize=6)\n",
        "\n",
        "# Налаштування осей\n",
        "plt.xticks(bins, rotation=45)\n",
        "plt.xlabel(\"$x_i$\", fontsize=17)\n",
        "plt.ylabel(\"$w_i$\", fontsize=17)\n",
        "plt.title(\"Гістограма інтервального ряду\", fontsize=24)\n",
        "plt.yticks(np.arange(0, 0.26, 0.02))\n",
        "plt.grid(True, linestyle='--', alpha=0.6, color='black', zorder=0)\n",
        "plt.legend()\n",
        "\n",
        "# Відображення гістограми\n",
        "plt.show()"
      ],
      "metadata": {
        "id": "Cj4VmIBWcA2p",
        "colab": {
          "base_uri": "https://localhost:8080/",
          "height": 517
        },
        "outputId": "f3de3a4f-d90e-45d4-eeb5-ec46e7db6e19"
      },
      "execution_count": 219,
      "outputs": [
        {
          "output_type": "display_data",
          "data": {
            "text/plain": [
              "<Figure size 800x500 with 1 Axes>"
            ],
            "image/png": "[encoded data removed]"
          },
          "metadata": {}
        }
      ]
    },
    {
      "cell_type": "code",
      "source": [
        "# 7. Q-Q Plot для перевірки нормальності\n",
        "plt.figure(figsize=(8, 5))\n",
        "stats.probplot(data, dist=\"norm\", plot=plt)\n",
        "plt.title(\"Q-Q Plot для перевірки нормальності\")\n",
        "plt.show()"
      ],
      "metadata": {
        "colab": {
          "base_uri": "https://localhost:8080/",
          "height": 487
        },
        "id": "JxT0k_Kdv4qP",
        "outputId": "7f54a3e8-76cc-436d-a411-91b7e2677630"
      },
      "execution_count": 221,
      "outputs": [
        {
          "output_type": "display_data",
          "data": {
            "text/plain": [
              "<Figure size 800x500 with 1 Axes>"
            ],
            "image/png": "[encoded data removed]"
          },
          "metadata": {}
        }
      ]
    }
  ]
}