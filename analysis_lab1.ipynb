{
  "nbformat": 4,
  "nbformat_minor": 0,
  "metadata": {
    "colab": {
      "provenance": [],
      "toc_visible": true,
      "authorship_tag": "ABX9TyNIfYccWYrAz3/hD7GXkYMT",
      "include_colab_link": true
    },
    "kernelspec": {
      "name": "python3",
      "display_name": "Python 3"
    },
    "language_info": {
      "name": "python"
    }
  },
  "cells": [
    {
      "cell_type": "markdown",
      "metadata": {
        "id": "view-in-github",
        "colab_type": "text"
      },
      "source": [
        "<a href=\"https://colab.research.google.com/github/AlexanderSychev2005/stat_un/blob/main/analysis_lab1.ipynb\" target=\"_parent\"><img src=\"https://colab.research.google.com/assets/colab-badge.svg\" alt=\"Open In Colab\"/></a>"
      ]
    },
    {
      "cell_type": "markdown",
      "source": [
        "![image.png](data:image/png;base64,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)"
      ],
      "metadata": {
        "id": "46XGpbNfJujs"
      }
    },
    {
      "cell_type": "code",
      "execution_count": 64,
      "metadata": {
        "id": "fY6Q_-TLJkxT"
      },
      "outputs": [],
      "source": [
        "import pandas as pd\n",
        "import numpy as np\n",
        "import matplotlib.pyplot as plt\n",
        "\n",
        "from sklearn.linear_model import LinearRegression\n",
        "from sklearn.metrics import mean_squared_error"
      ]
    },
    {
      "cell_type": "code",
      "source": [
        "# dataset = pd.DataFrame({\"x\": [79.31, 57.43, 60.66, 90.55, 92.12, 71.30, 70.50, 91.25], \"y\": [5.89, 3.84, 6.19, 9.22, 7.87, 6.29, 4.43, 8.91]})"
      ],
      "metadata": {
        "id": "zz-c0C4zJ3gu"
      },
      "execution_count": 65,
      "outputs": []
    },
    {
      "cell_type": "code",
      "source": [
        "# dataset.T"
      ],
      "metadata": {
        "id": "LZWx8pfBKRos"
      },
      "execution_count": 66,
      "outputs": []
    },
    {
      "cell_type": "code",
      "source": [
        "# X = dataset[\"x\"].values.reshape(-1, 1)\n",
        "# y = dataset[\"y\"].values\n",
        "# X"
      ],
      "metadata": {
        "id": "5uhIN2LNKuSl"
      },
      "execution_count": 67,
      "outputs": []
    },
    {
      "cell_type": "code",
      "source": [
        "# X = np.array([1.20, 1.57, 1.94, 2.31, 2.68, 3.05, 3.42, 3.79]).reshape(-1, 1)\n",
        "# y = np.array([2.56, 2.06, 1.58, 1.25, 0.91, 0.66, 0.38, 0.21])\n",
        "# X\n",
        "# X = np.array([79.31, 57.43, 60.66, 90.55, 92.12, 71.30, 70.50, 91.25]).reshape(-1, 1)\n",
        "# y = np.array([5.89, 3.84, 6.19, 9.22, 7.87, 6.29, 4.43, 8.91])\n",
        "# X\n",
        "X = np.array([2.56, 2.06, 1.58, 1.25, 0.91, 0.66, 0.38, 0.21]).reshape(-1, 1)\n",
        "y = np.array([0.63, 1.11, 1.42, 1.96, 2.3, 2.89, 3.29, 3.87 ])\n",
        "X"
      ],
      "metadata": {
        "id": "hdIYUUkHU1sV",
        "colab": {
          "base_uri": "https://localhost:8080/"
        },
        "outputId": "70f6528d-fe47-4c52-8ddd-98842b7077a4"
      },
      "execution_count": 68,
      "outputs": [
        {
          "output_type": "execute_result",
          "data": {
            "text/plain": [
              "array([[2.56],\n",
              "       [2.06],\n",
              "       [1.58],\n",
              "       [1.25],\n",
              "       [0.91],\n",
              "       [0.66],\n",
              "       [0.38],\n",
              "       [0.21]])"
            ]
          },
          "metadata": {},
          "execution_count": 68
        }
      ]
    },
    {
      "cell_type": "markdown",
      "source": [
        "## Linear Regression y = a + bx"
      ],
      "metadata": {
        "id": "LFGZSgyHL2RB"
      }
    },
    {
      "cell_type": "code",
      "source": [
        "linear_regressor = LinearRegression()\n",
        "linear_regressor.fit(X, y)\n",
        "y_pred_linear = linear_regressor.predict(X)\n",
        "y_pred_linear_error = mean_squared_error(y, y_pred_linear)\n",
        "y_pred_linear_error"
      ],
      "metadata": {
        "colab": {
          "base_uri": "https://localhost:8080/"
        },
        "id": "kDIg3pxgL371",
        "outputId": "8602f486-6db8-4232-aa80-80dc57e3d315"
      },
      "execution_count": 69,
      "outputs": [
        {
          "output_type": "execute_result",
          "data": {
            "text/plain": [
              "0.046369465856647016"
            ]
          },
          "metadata": {},
          "execution_count": 69
        }
      ]
    },
    {
      "cell_type": "code",
      "source": [
        "print(f\"y = {linear_regressor.coef_[0]} * X + {linear_regressor.intercept_}\")"
      ],
      "metadata": {
        "colab": {
          "base_uri": "https://localhost:8080/"
        },
        "id": "0RJm6o1DOKvw",
        "outputId": "556397ec-c907-4284-8502-3b7f57be522a"
      },
      "execution_count": 70,
      "outputs": [
        {
          "output_type": "stream",
          "name": "stdout",
          "text": [
            "y = -1.3285381077443372 * X + 3.779656401927885\n"
          ]
        }
      ]
    },
    {
      "cell_type": "markdown",
      "source": [
        "## Polynomial Regression y = a + b1*x + b2*x^2 + e"
      ],
      "metadata": {
        "id": "pgM4_SsKPGwp"
      }
    },
    {
      "cell_type": "code",
      "source": [
        "from sklearn.preprocessing import PolynomialFeatures\n",
        "poly_reg = PolynomialFeatures(degree = 2)\n",
        "X_poly = poly_reg.fit_transform(X)\n",
        "lin_reg_2 = LinearRegression()\n",
        "lin_reg_2.fit(X_poly, y)\n",
        "y_pred_polynomial = lin_reg_2.predict(X_poly)\n",
        "y_pred_polynomial_error = mean_squared_error(y, y_pred_polynomial)\n",
        "y_pred_polynomial_error"
      ],
      "metadata": {
        "colab": {
          "base_uri": "https://localhost:8080/"
        },
        "id": "ljALHOs9PJEG",
        "outputId": "4e1c46ce-3bee-499b-df9e-b2b50f14fcdb"
      },
      "execution_count": 71,
      "outputs": [
        {
          "output_type": "execute_result",
          "data": {
            "text/plain": [
              "0.00770265569315855"
            ]
          },
          "metadata": {},
          "execution_count": 71
        }
      ]
    },
    {
      "cell_type": "code",
      "source": [
        "feature_names = poly_reg.get_feature_names_out()\n",
        "\n",
        "# Формируем уравнение\n",
        "equation = f\"{lin_reg_2.intercept_:.4f}\"  # Свободный член\n",
        "\n",
        "for coef, feature in zip(lin_reg_2.coef_, feature_names):\n",
        "    equation += f\" + ({coef:.4f}) * {feature}\"\n",
        "print(\"y =\", equation)"
      ],
      "metadata": {
        "colab": {
          "base_uri": "https://localhost:8080/"
        },
        "id": "NqopcCnbXMur",
        "outputId": "4c43a2a0-255f-4f49-f491-797d215d66c5"
      },
      "execution_count": 72,
      "outputs": [
        {
          "output_type": "stream",
          "name": "stdout",
          "text": [
            "y = 4.2393 + (0.0000) * 1 + (-2.3496) * x0 + (0.3762) * x0^2\n"
          ]
        }
      ]
    },
    {
      "cell_type": "markdown",
      "source": [
        "## Logarithmic regression y = a + b*ln(x)"
      ],
      "metadata": {
        "id": "2jaM6Tu2W70R"
      }
    },
    {
      "cell_type": "code",
      "source": [
        "x_log = np.log(X)\n",
        "log_regressor = LinearRegression()\n",
        "log_regressor.fit(x_log, y)\n",
        "y_pred_log = log_regressor.predict(x_log)\n",
        "y_pred_log_error = mean_squared_error(y, y_pred_log)\n",
        "y_pred_log_error"
      ],
      "metadata": {
        "colab": {
          "base_uri": "https://localhost:8080/"
        },
        "id": "KxpuKywlXS0G",
        "outputId": "6914b753-ac1f-47fb-8465-4ff89439915a"
      },
      "execution_count": 73,
      "outputs": [
        {
          "output_type": "execute_result",
          "data": {
            "text/plain": [
              "0.028287082606572575"
            ]
          },
          "metadata": {},
          "execution_count": 73
        }
      ]
    },
    {
      "cell_type": "code",
      "source": [
        "print(f\"y = {log_regressor.intercept_} + {log_regressor.coef_[0]}*ln(x)\")"
      ],
      "metadata": {
        "colab": {
          "base_uri": "https://localhost:8080/"
        },
        "id": "6PP4HDkPdocD",
        "outputId": "c203a39a-0d90-4e12-8631-c8842e87d4f3"
      },
      "execution_count": 74,
      "outputs": [
        {
          "output_type": "stream",
          "name": "stdout",
          "text": [
            "y = 2.0719115273479454 + -1.287763895946288*ln(x)\n"
          ]
        }
      ]
    },
    {
      "cell_type": "markdown",
      "source": [
        "## Stepwise regression y = a * x^n\n",
        "## ln(y) = ln(a) + m * ln(x)\n"
      ],
      "metadata": {
        "id": "zA2jeWaRc7Uz"
      }
    },
    {
      "cell_type": "code",
      "source": [
        "x_log_stepwise = np.log(X)\n",
        "y_log_stepwise = np.log(y)\n",
        "stepwise_regressor = LinearRegression()\n",
        "stepwise_regressor.fit(x_log_stepwise, y_log_stepwise)\n",
        "y_pred_stepwise = np.exp(stepwise_regressor.predict(x_log_stepwise))\n",
        "y_pred_stepwise_error = mean_squared_error(y, y_pred_stepwise)\n",
        "y_pred_stepwise_error"
      ],
      "metadata": {
        "colab": {
          "base_uri": "https://localhost:8080/"
        },
        "id": "eSZhPS4Jc5Po",
        "outputId": "03844870-c48e-4f44-f934-ec02bab28c8e"
      },
      "execution_count": 75,
      "outputs": [
        {
          "output_type": "execute_result",
          "data": {
            "text/plain": [
              "0.24929359223101022"
            ]
          },
          "metadata": {},
          "execution_count": 75
        }
      ]
    },
    {
      "cell_type": "code",
      "source": [
        "beta_0 = stepwise_regressor.intercept_\n",
        "beta_1 = stepwise_regressor.coef_[0]\n",
        "scale_factor = np.exp(beta_0)\n",
        "\n",
        "print(f\"e^{beta_0} + x^{beta_1} \")"
      ],
      "metadata": {
        "colab": {
          "base_uri": "https://localhost:8080/"
        },
        "id": "s4G5hiB2lRrc",
        "outputId": "345bf4ab-d279-4276-fc3c-4b7bdadf72b7"
      },
      "execution_count": 76,
      "outputs": [
        {
          "output_type": "stream",
          "name": "stdout",
          "text": [
            "e^0.5809707095486598 + x^-0.6569998839347532 \n"
          ]
        }
      ]
    },
    {
      "cell_type": "markdown",
      "source": [
        "## Exponential Regression ln(y) = A * x + B"
      ],
      "metadata": {
        "id": "QbuNYlTQqZ2T"
      }
    },
    {
      "cell_type": "code",
      "source": [
        "expon_regressor = LinearRegression()\n",
        "expon_regressor.fit(X, np.log(y))\n",
        "y_pred_exp = np.exp(expon_regressor.predict(X))\n",
        "y_pred_exp_error = mean_squared_error(y, y_pred_exp)\n",
        "y_pred_exp_error"
      ],
      "metadata": {
        "colab": {
          "base_uri": "https://localhost:8080/"
        },
        "id": "9i5Qnb4fqpr9",
        "outputId": "cb450f4e-b2ea-405d-e617-1bc3ae0a01bd"
      },
      "execution_count": 77,
      "outputs": [
        {
          "output_type": "execute_result",
          "data": {
            "text/plain": [
              "0.009317227155926203"
            ]
          },
          "metadata": {},
          "execution_count": 77
        }
      ]
    },
    {
      "cell_type": "code",
      "source": [
        "print(f\"e^ (x * {expon_regressor.coef_} +({expon_regressor.intercept_})) \")"
      ],
      "metadata": {
        "colab": {
          "base_uri": "https://localhost:8080/"
        },
        "id": "TjLG476JrYo6",
        "outputId": "f23b8514-2aab-4bd5-b991-7cafb518aa23"
      },
      "execution_count": 78,
      "outputs": [
        {
          "output_type": "stream",
          "name": "stdout",
          "text": [
            "e^ (x * [-0.736516] +(1.5227690493550854)) \n"
          ]
        }
      ]
    },
    {
      "cell_type": "markdown",
      "source": [
        "## Hyperbolic Regression y = a / x + b, y = u * x + b, u = 1/a"
      ],
      "metadata": {
        "id": "vw_WRmSsnwDf"
      }
    },
    {
      "cell_type": "code",
      "source": [
        "x_inverted = 1/X\n",
        "hyperbolic_regressor = LinearRegression()\n",
        "hyperbolic_regressor.fit(x_inverted, y)\n",
        "y_pred_hyper = hyperbolic_regressor.predict(x_inverted)\n",
        "y_pred_hyper_error = mean_squared_error(y, y_pred_hyper)\n",
        "y_pred_hyper_error"
      ],
      "metadata": {
        "colab": {
          "base_uri": "https://localhost:8080/"
        },
        "id": "X3XY_T5fiTmq",
        "outputId": "b3e5b4cf-6365-4bf9-8aab-549d3d3cf384"
      },
      "execution_count": 79,
      "outputs": [
        {
          "output_type": "execute_result",
          "data": {
            "text/plain": [
              "0.2378422270211646"
            ]
          },
          "metadata": {},
          "execution_count": 79
        }
      ]
    },
    {
      "cell_type": "code",
      "source": [
        "print(f\"{hyperbolic_regressor.coef_[0]}/x +{hyperbolic_regressor.intercept_}) \")"
      ],
      "metadata": {
        "colab": {
          "base_uri": "https://localhost:8080/"
        },
        "id": "Pyg-QIEUsqs0",
        "outputId": "6af4bb65-7ddc-4269-e046-708ccf47d6aa"
      },
      "execution_count": 80,
      "outputs": [
        {
          "output_type": "stream",
          "name": "stdout",
          "text": [
            "0.6645834038857055/x +1.1605815150128933) \n"
          ]
        }
      ]
    },
    {
      "cell_type": "code",
      "source": [
        "mse_errors={\n",
        "    \"Linear\": y_pred_linear_error,\n",
        "    \"Squared\": y_pred_polynomial_error,\n",
        "    \"Logarithmic\": y_pred_log_error,\n",
        "    \"Stepwise\": y_pred_stepwise_error,\n",
        "    \"Exponentian\": y_pred_exp_error,\n",
        "    \"Hyperbolic\": y_pred_hyper_error\n",
        "    }\n",
        "mse_errors"
      ],
      "metadata": {
        "colab": {
          "base_uri": "https://localhost:8080/"
        },
        "id": "aGkQodT2wAS7",
        "outputId": "5d6d9cb2-f028-44ac-9762-c3962dd78600"
      },
      "execution_count": 81,
      "outputs": [
        {
          "output_type": "execute_result",
          "data": {
            "text/plain": [
              "{'Linear': 0.046369465856647016,\n",
              " 'Squared': 0.00770265569315855,\n",
              " 'Logarithmic': 0.028287082606572575,\n",
              " 'Stepwise': 0.24929359223101022,\n",
              " 'Exponentian': 0.009317227155926203,\n",
              " 'Hyperbolic': 0.2378422270211646}"
            ]
          },
          "metadata": {},
          "execution_count": 81
        }
      ]
    },
    {
      "cell_type": "code",
      "source": [
        "best_model = min(mse_errors, key=mse_errors.get)\n",
        "best_mse = mse_errors[best_model]\n",
        "\n",
        "print(f\"Best model: {best_model} with MSE = {best_mse:.4f}\")"
      ],
      "metadata": {
        "colab": {
          "base_uri": "https://localhost:8080/"
        },
        "id": "yCcut718xhfB",
        "outputId": "1fff0245-34a1-4e4a-e54d-6a9c3f31121a"
      },
      "execution_count": 82,
      "outputs": [
        {
          "output_type": "stream",
          "name": "stdout",
          "text": [
            "Best model: Squared with MSE = 0.0077\n"
          ]
        }
      ]
    },
    {
      "cell_type": "code",
      "source": [
        "plt.scatter(X, y, color=\"red\")\n",
        "plt.plot(X, y_pred_linear, label=f\"Linear Regression {y_pred_linear_error:.4f}\", color=\"green\")\n",
        "plt.plot(X, y_pred_polynomial, label=f\"Squared Regression {y_pred_polynomial_error:.4f}\", color=\"blue\")\n",
        "plt.plot(X, y_pred_log, label=f\"Logarithmic Regression {y_pred_log_error:.4f}\", color=\"purple\")\n",
        "plt.plot(X, y_pred_stepwise, label=f\"Stepwise Regression {y_pred_stepwise_error:.4f}\", color=\"orange\")\n",
        "plt.plot(X, y_pred_exp, label=f\"Exponential Regression {y_pred_exp_error:.4f}\", color=\"pink\")\n",
        "plt.plot(X, y_pred_hyper, label=f\"Hyperbolic Regression {y_pred_hyper_error:.4f}\", )\n",
        "plt.legend()\n",
        "plt.xlabel('x')\n",
        "plt.ylabel('y')\n",
        "plt.title('Regressive models')\n",
        "plt.show()"
      ],
      "metadata": {
        "colab": {
          "base_uri": "https://localhost:8080/",
          "height": 472
        },
        "id": "B_HCqb7DKetQ",
        "outputId": "005dc7b9-12c2-48c1-c67f-f12cf796a325"
      },
      "execution_count": 83,
      "outputs": [
        {
          "output_type": "display_data",
          "data": {
            "text/plain": [
              "<Figure size 640x480 with 1 Axes>"
            ],
            "image/png": "[encoded data removed]"
          },
          "metadata": {}
        }
      ]
    },
    {
      "cell_type": "code",
      "source": [],
      "metadata": {
        "id": "uLuWyNKFKT95"
      },
      "execution_count": 83,
      "outputs": []
    }
  ]
}